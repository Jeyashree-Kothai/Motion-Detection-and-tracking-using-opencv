{
 "cells": [
  {
   "cell_type": "code",
   "execution_count": 2,
   "metadata": {},
   "outputs": [],
   "source": [
    "\n",
    "import cv2 as cv\n",
    "#print(cv.__version__)\n",
    "import numpy as np\n",
    "\n",
    "\n"
   ]
  },
  {
   "cell_type": "code",
   "execution_count": 18,
   "metadata": {},
   "outputs": [
    {
     "name": "stdout",
     "output_type": "stream",
     "text": [
      "(1280, 720)\n"
     ]
    }
   ],
   "source": [
    "\n",
    "import cv2 as cv\n",
    "#print(cv.__version__)\n",
    "import numpy as np\n",
    "\n",
    "\n",
    "cap = cv.VideoCapture('video.mp4')\n",
    "\n",
    "frame_width = int(cap.get(3)) \n",
    "frame_height = int(cap.get(4)) \n",
    "   \n",
    "size = (frame_width, frame_height) \n",
    "print(size)\n",
    "\n",
    "output = \"Motion_Detection.avi\"\n",
    "codec=cv.VideoWriter_fourcc(*'MJPG')\n",
    "writer = cv.VideoWriter(output, codec, 20 ,size)\n",
    "\n",
    "ret , frame1 = cap.read()\n",
    "ret , frame2 = cap.read()\n",
    "\n",
    "if True:\n",
    "    while cap.isOpened():\n",
    "        \n",
    "        diff = cv.absdiff(frame1 , frame2)\n",
    "        gray = cv.cvtColor(diff , cv.COLOR_BGR2GRAY)\n",
    "        blur = cv.GaussianBlur(gray , (5,5) , 0)\n",
    "        _,thresh = cv.threshold(blur , 20 ,255 , cv.THRESH_BINARY)\n",
    "        dilated= cv.dilate(thresh , None ,iterations = 3)\n",
    "        contours ,_ = cv.findContours(dilated , cv.RETR_TREE , cv.CHAIN_APPROX_SIMPLE)\n",
    "    \n",
    "        for contour in contours:\n",
    "            (x , y, w , h) = cv.boundingRect(contour)\n",
    "            if cv.contourArea(contour) < 700:\n",
    "                continue\n",
    "            cv.rectangle(frame1, (x, y)  , (x+w , y+h) , (0,255,0) , 2)\n",
    "    \n",
    "        cv.imshow(\"Detect Person\" , frame1)\n",
    "        writer.write(frame1)\n",
    "        frame1 = frame2\n",
    "        ret , frame2 = cap.read()\n",
    "        \n",
    "        \n",
    "        \n",
    "        k = cv.waitKey(30) & 0xFF\n",
    "        if k == 27:\n",
    "            #writer.release()\n",
    "            break\n",
    "        if ret == False:\n",
    "            break\n",
    "            \n",
    "writer.release()\n",
    "cap.release()\n",
    "cv.destroyAllWindows()"
   ]
  },
  {
   "cell_type": "code",
   "execution_count": null,
   "metadata": {},
   "outputs": [],
   "source": []
  }
 ],
 "metadata": {
  "kernelspec": {
   "display_name": "Python 3",
   "language": "python",
   "name": "python3"
  },
  "language_info": {
   "codemirror_mode": {
    "name": "ipython",
    "version": 3
   },
   "file_extension": ".py",
   "mimetype": "text/x-python",
   "name": "python",
   "nbconvert_exporter": "python",
   "pygments_lexer": "ipython3",
   "version": "3.8.2"
  }
 },
 "nbformat": 4,
 "nbformat_minor": 4
}
